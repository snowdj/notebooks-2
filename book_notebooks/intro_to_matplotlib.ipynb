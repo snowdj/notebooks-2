{
 "cells": [
  {
   "cell_type": "markdown",
   "metadata": {},
   "source": [
    "# Intro to Matplotlib\n",
    "\n",
    "\n",
    "####  Review and Outline\n",
    "\n",
    "Great Work! We have made it this far...we have learned a few important packages in python, e.g., `pandas` and `numpy`, and how to use them to do numeric computings and data manipulation.   \n",
    "\n",
    "Where are we going to know...we will get into the shining part for every data report: **data visualization**, as the saying goes, \"a picture is worth a thousand words\". Can you imagine an presentation or report regarding data analysis without graphs? Probably not often.\n",
    "\n",
    "We start with basic concepts and techinical components in graphs. Then we talk about the basic graph options, e.g., title, labels (and legends) - **the indispensable components of a chart** \n",
    "\n",
    "[This notebook largely follows the discussion in the Book.](https://nyudatabootcamp.gitbook.io/thebook/graphs1)\n",
    "\n",
    "#### Python\n",
    "\n",
    "In this notebook, we will learn (i) the ploting basics and univariate/multivariate analysis (ii) two approaches to generate the plot via `Matplotlib` in python (iii) how to generate the `fig` and `ax` of a figure. \n",
    "\n",
    "**Buzzwords.** Data visualization, time series, cross sectional data\n"
   ]
  },
  {
   "cell_type": "code",
   "execution_count": 1,
   "metadata": {},
   "outputs": [],
   "source": [
    "# Loading the packages\n",
    "\n",
    "import pandas as pd                 # Our pandas package\n",
    "\n",
    "# In order to use the pandas_datareader, we have the following lines of code, hard to explain.\n",
    "# New version for pandas. In the past, we used pandasdatareader, but might be not working anymore\n",
    "pd.core.common.is_list_like = pd.api.types.is_list_like\n",
    " \n",
    "from pandas_datareader import data  # This is will give us access to FRED\n",
    "import datetime as dt               # This will get us the datatime package\n",
    "import matplotlib.pyplot as plt     # The new package we are learning about Matplotlib\n",
    "                                    # pyplot is just one module of many in this library\n",
    "\n",
    "%matplotlib inline \n",
    "# This line tells jupyter to plot the graphs within the notebook"
   ]
  },
  {
   "cell_type": "markdown",
   "metadata": {},
   "source": [
    "---\n",
    "## Plotting Concepts"
   ]
  },
  {
   "cell_type": "markdown",
   "metadata": {},
   "source": [
    "### Data visualisation"
   ]
  },
  {
   "cell_type": "markdown",
   "metadata": {},
   "source": [
    "Plot or data visualisation is an abstraction/aggregation to represent data, which can be used to communicate information, sense making and thus extract the values of data.  \n",
    "\n",
    "So why do we call it as an **abstraction**? For almost every graph, there is a loss of information (hopefully often not so important ones in the current settings), because it is impossible for human beings to absorb all the numbers, texts at once. We often use different physical attributes of vision (length, position, size, shape, and color, etc) to make the transformation of data. \n",
    "\n",
    "Thus sometimes, the instentions of visualisation designers may directly have impacts on what we perceive/understand about the data. Also, sometimes even a design decision can motivate the omission of important data. So we will keep this in mind either from the perspective of a reader or designer. Please see the following intuitive example.   \n"
   ]
  },
  {
   "cell_type": "code",
   "execution_count": 2,
   "metadata": {},
   "outputs": [
    {
     "data": {
      "text/html": [
       "<div>\n",
       "<style scoped>\n",
       "    .dataframe tbody tr th:only-of-type {\n",
       "        vertical-align: middle;\n",
       "    }\n",
       "\n",
       "    .dataframe tbody tr th {\n",
       "        vertical-align: top;\n",
       "    }\n",
       "\n",
       "    .dataframe thead th {\n",
       "        text-align: right;\n",
       "    }\n",
       "</style>\n",
       "<table border=\"1\" class=\"dataframe\">\n",
       "  <thead>\n",
       "    <tr style=\"text-align: right;\">\n",
       "      <th></th>\n",
       "      <th>rm</th>\n",
       "      <th>rf</th>\n",
       "    </tr>\n",
       "    <tr>\n",
       "      <th>Date</th>\n",
       "      <th></th>\n",
       "      <th></th>\n",
       "    </tr>\n",
       "  </thead>\n",
       "  <tbody>\n",
       "    <tr>\n",
       "      <th>2010</th>\n",
       "      <td>17.49</td>\n",
       "      <td>0.12</td>\n",
       "    </tr>\n",
       "    <tr>\n",
       "      <th>2011</th>\n",
       "      <td>0.48</td>\n",
       "      <td>0.04</td>\n",
       "    </tr>\n",
       "    <tr>\n",
       "      <th>2012</th>\n",
       "      <td>16.34</td>\n",
       "      <td>0.06</td>\n",
       "    </tr>\n",
       "    <tr>\n",
       "      <th>2013</th>\n",
       "      <td>35.22</td>\n",
       "      <td>0.02</td>\n",
       "    </tr>\n",
       "    <tr>\n",
       "      <th>2014</th>\n",
       "      <td>11.72</td>\n",
       "      <td>0.02</td>\n",
       "    </tr>\n",
       "  </tbody>\n",
       "</table>\n",
       "</div>"
      ],
      "text/plain": [
       "         rm    rf\n",
       "Date             \n",
       "2010  17.49  0.12\n",
       "2011   0.48  0.04\n",
       "2012  16.34  0.06\n",
       "2013  35.22  0.02\n",
       "2014  11.72  0.02"
      ]
     },
     "execution_count": 2,
     "metadata": {},
     "output_type": "execute_result"
    }
   ],
   "source": [
    "# plot the data from *Fama-French returns*.\n",
    "ff = data.DataReader('F-F_Research_Data_factors', 'famafrench')[1]\n",
    "ff.columns = ['xsm', 'smb', 'hml', 'rf']\n",
    "ff['rm'] = ff['xsm'] + ff['rf']\n",
    "ff = ff[['rm', 'rf']]               # extract rm (market) and rf (riskfree)\n",
    "ff.head(5)\n"
   ]
  },
  {
   "cell_type": "code",
   "execution_count": 3,
   "metadata": {},
   "outputs": [
    {
     "data": {
      "text/plain": [
       "<matplotlib.axes._subplots.AxesSubplot at 0x116319940>"
      ]
     },
     "execution_count": 3,
     "metadata": {},
     "output_type": "execute_result"
    },
    {
     "data": {
      "image/png": "[encoded data removed]",
      "text/plain": [
       "<Figure size 432x288 with 1 Axes>"
      ]
     },
     "metadata": {},
     "output_type": "display_data"
    }
   ],
   "source": [
    "ff.plot()"
   ]
  },
  {
   "cell_type": "markdown",
   "metadata": {},
   "source": [
    "This is an example of bad practice for data visualization. Why? It uses line graphs to plot two different scales of data on a *single* axis. Moreover, it might confuse/disguise you that the **rf** is essentially the same or flat during the time period. However, it is not, it is **six times larger** in fact!"
   ]
  },
  {
   "cell_type": "markdown",
   "metadata": {},
   "source": [
    "### Time series vs Cross sectional Data"
   ]
  },
  {
   "cell_type": "markdown",
   "metadata": {},
   "source": [
    "A **time series** is a series of data points indexed (or listed or graphed) in time order. Most commonly, a time series is a sequence taken at successive equally spaced points in time. The data typically has 3 things in common:\n",
    "\n",
    "* Arrival is almost always recorded as a new entry\n",
    "* The data typically arrives in time order\n",
    "* Time is a primary axis (time-intervals can be either regular or irregular)\n",
    "\n",
    "As we'll see later, time series are very frequently plotted via line charts. A typical example of time series data is as follow. "
   ]
  },
  {
   "cell_type": "code",
   "execution_count": 4,
   "metadata": {},
   "outputs": [
    {
     "name": "stdout",
     "output_type": "stream",
     "text": [
      "          gdp      pce\n",
      "2003  13271.1   8867.6\n",
      "2004  13773.5   9208.2\n",
      "2005  14234.2   9531.8\n",
      "2006  14613.8   9821.7\n",
      "2007  14873.7  10041.6\n",
      "2008  14830.4  10007.2\n",
      "2009  14418.7   9847.0\n",
      "2010  14783.8  10036.3\n",
      "2011  15020.6  10263.5\n",
      "2012  15369.2  10449.7\n",
      "2013  15710.3  10699.7\n"
     ]
    }
   ],
   "source": [
    "gdp  = [13271.1, 13773.5, 14234.2, 14613.8, 14873.7, 14830.4, 14418.7,\n",
    "        14783.8, 15020.6, 15369.2, 15710.3]\n",
    "pce  = [8867.6, 9208.2, 9531.8, 9821.7, 10041.6, 10007.2, 9847.0, 10036.3,\n",
    "        10263.5, 10449.7, 10699.7]\n",
    "year = list(range(2003,2014))        # use range for years 2003-2013\n",
    "\n",
    "# Note that we set the index\n",
    "us = pd.DataFrame({'gdp': gdp, 'pce': pce}, index=year)\n",
    "print(us)"
   ]
  },
  {
   "cell_type": "markdown",
   "metadata": {},
   "source": [
    "While **cross sectional** data is observations that come from different individuals or groups at a single point in time. There it differs from time series data, which the objects are observations varying in time but from a single individuals or groups.\n",
    "\n",
    "A typical example of cross sectional data is as follow. We will usually use bars graphs to show the relationships among different groups."
   ]
  },
  {
   "cell_type": "code",
   "execution_count": 5,
   "metadata": {},
   "outputs": [
    {
     "name": "stdout",
     "output_type": "stream",
     "text": [
      "           country  gdppc\n",
      "USA  United States   53.1\n",
      "FRA         France   36.9\n",
      "JPN          Japan   36.3\n",
      "CHN          China   11.9\n",
      "IND          India    5.4\n",
      "BRA         Brazil   15.0\n",
      "MEX         Mexico   16.5\n"
     ]
    }
   ],
   "source": [
    "code    = ['USA', 'FRA', 'JPN', 'CHN', 'IND', 'BRA', 'MEX']\n",
    "country = ['United States', 'France', 'Japan', 'China', 'India',\n",
    "             'Brazil', 'Mexico']\n",
    "gdppc   = [53.1, 36.9, 36.3, 11.9, 5.4, 15.0, 16.5]\n",
    "\n",
    "wbdf = pd.DataFrame({'gdppc': gdppc, 'country': country}, index=code)\n",
    "\n",
    "print(wbdf)"
   ]
  },
  {
   "cell_type": "markdown",
   "metadata": {},
   "source": [
    "### Univariate and Multivariate analysis "
   ]
  },
  {
   "cell_type": "markdown",
   "metadata": {},
   "source": [
    "**Univariate analysis** is the simplest form of data analysis where the data being analyzed contains only one variable. Since it's a single variable, it doesn’t deal with causes or relationships. We can usually get some insights regarding the statistic features of the data, such as empirical distributions, mean, and skewness, etc. The major purpose univariate bivariate analysis is to explain.\n",
    "\n",
    "In practice, we usually perform univariate analysis as a stepping stone for futher analysis.\n"
   ]
  },
  {
   "cell_type": "markdown",
   "metadata": {},
   "source": [
    "**Multivariate analysis** deals with more than one variables. It deals with causes or relationships. The main purpose multivariate bivariate analysis is to explore the relationships among data.\n",
    "\n",
    "There are many ways to play with mltivariates depending on your goals, e.g., such as cluster analysis, principal component analysis (PCA), analysis of variance (ANOVA), etc."
   ]
  },
  {
   "cell_type": "markdown",
   "metadata": {},
   "source": [
    "---\n",
    "## Matplotlib "
   ]
  },
  {
   "cell_type": "markdown",
   "metadata": {},
   "source": [
    "Python's leading graphics package is **Matplotlib**, which is designed for creating publication-quality plots.\n",
    "\n",
    "Matplotlib can be used in a number of different ways:\n",
    "\n",
    "* Approach #1:  Apply plot methods to dataframes.\n",
    "* Approach #2:  Create figure objects and apply methods to them.\n",
    "\n",
    "They call on similar functionality, but use different syntax to get it.\n",
    "\n"
   ]
  },
  {
   "cell_type": "markdown",
   "metadata": {},
   "source": [
    "####  Approach #1:  Apply plot methods to dataframes\n"
   ]
  },
  {
   "cell_type": "markdown",
   "metadata": {},
   "source": [
    "The simplest way to produce graphics from a dataframe is to apply a plot method to it.  Simple is good, we do this a lot.\n",
    "\n",
    "If we compare this to Excel, we will see that a number of things are preset for us:\n",
    "\n",
    "* Data.  By default (meaning, if we don't do anything to change it) the data consists of the whole dataframe.\n",
    "* Chart type.  We'll see below that we have options for lines, bars, or other things.\n",
    "* `x` and `y` variables.  By default, the `x` variable is the dataframe's index and the `y` variables are the columns of the dataframe -- all of them that can be plotted (e.g. columns with a numeric dtype).\n",
    "\n",
    "We can change all of these things, just as we can in Excel, but that's the starting point."
   ]
  },
  {
   "cell_type": "markdown",
   "metadata": {},
   "source": [
    "**Example (line plot).**  Enter the statement `us.plot()` into a code cell and run it.  This plots every column of the dataframe `us` as a line against the index, the year of the observation.  The lines have different colors.  We didn't ask for this, it's built in.  A legend associates each variable name with a line color.  This is also built in.\n"
   ]
  },
  {
   "cell_type": "code",
   "execution_count": 6,
   "metadata": {},
   "outputs": [
    {
     "data": {
      "text/plain": [
       "<matplotlib.axes._subplots.AxesSubplot at 0x116d6e3c8>"
      ]
     },
     "execution_count": 6,
     "metadata": {},
     "output_type": "execute_result"
    },
    {
     "data": {
      "image/png": "[encoded data removed]",
      "text/plain": [
       "<Figure size 432x288 with 1 Axes>"
      ]
     },
     "metadata": {},
     "output_type": "display_data"
    }
   ],
   "source": [
    "us.plot()"
   ]
  },
  {
   "cell_type": "markdown",
   "metadata": {},
   "source": [
    "**Example (single line plot).**  We just plotted all the variables -- all two of them -- in the dataframe `us`.  To plot one line, we apply the same method to a single variable -- a series.  The statement `us['gdp'].plot()` plots GDP alone.  The first part -- `us['gdp']` -- is the single variable GDP.  The second part -- `.plot()` -- plots it.\n"
   ]
  },
  {
   "cell_type": "markdown",
   "metadata": {},
   "source": [
    "**Example (single line plot 2)**. In addition to getting a series from our dataframe and then plotting the series, we could also set the `y` argument when we call the plot method. The statement `us.plot(y=\"gdp\")` will produce the same plot as `us['gdp'].plot()`.\n"
   ]
  },
  {
   "cell_type": "markdown",
   "metadata": {},
   "source": [
    "---\n",
    "### Time to practice\n",
    "\n",
    "\n",
    "\n",
    "\n",
    "\n",
    "\n",
    "\n",
    "\n"
   ]
  },
  {
   "cell_type": "markdown",
   "metadata": {},
   "source": [
    "**Exercise.**  Use the World Bank dataframe `wbdf` to create a bar chart of GDP per capita, the variable `'gdppc'`. *Bonus points:* Create a horizontal bar chart. Which do you prefer?\n"
   ]
  },
  {
   "cell_type": "markdown",
   "metadata": {},
   "source": [
    "#### Approach #2:  Create figure objects and apply methods\n"
   ]
  },
  {
   "cell_type": "markdown",
   "metadata": {},
   "source": [
    "This approach was mysterious to us at first, but it's now our favorite. The idea is to generate an object -- two objects, in fact -- and apply methods to them to produce the various elements of a graph: the data, their axes, their labels, and so on.\n",
    "\n",
    "\n",
    "\n",
    "We do this -- as usual -- one step at a time."
   ]
  },
  {
   "cell_type": "markdown",
   "metadata": {},
   "source": [
    "**Create objects.** The **`fig`** represent the canvas object while **`ax`** is as the object for charging the details, e.g., type of graphs, colors and axis, etc, in each graph on the canvas.\n",
    "\n",
    "\n",
    "We'll see this ONE line over and over:\n"
   ]
  },
  {
   "cell_type": "code",
   "execution_count": 7,
   "metadata": {},
   "outputs": [
    {
     "data": {
      "image/png": "[encoded data removed]",
      "text/plain": [
       "<Figure size 432x288 with 1 Axes>"
      ]
     },
     "metadata": {},
     "output_type": "display_data"
    }
   ],
   "source": [
    "fig, ax = plt.subplots()         # create fig and ax objects"
   ]
  },
  {
   "cell_type": "markdown",
   "metadata": {},
   "source": [
    "Note that we're using the pyplot function `subplots()`, which creates the objects `fig` and `ax` on the left.   The `subplot()` function produces a blank figure, which is displayed in the Jupyter notebook.  The names `fig` and `ax` can be anything, but these choices are standard.\n",
    "\n",
    "We say `fig` is a **figure object** and `ax` is an **axis object**.  (Try `type(fig)` and `type(ax)` to see why.)  Once more, the words don't mean what we might think they mean:\n",
    "\n",
    "* `fig` is a blank canvas for creating a figure.\n",
    "* `ax` is everything in it:  axes, labels, lines or bars, legend, and so on.\n",
    "\n",
    "Once we have the objects, we apply methods to them to create graphs."
   ]
  },
  {
   "cell_type": "markdown",
   "metadata": {},
   "source": [
    "**Create graphs.**  We create graphs by applying plot-like methods to `ax`.  We typically do this with dataframe plot methods:\n"
   ]
  },
  {
   "cell_type": "code",
   "execution_count": 8,
   "metadata": {},
   "outputs": [
    {
     "data": {
      "text/plain": [
       "<matplotlib.axes._subplots.AxesSubplot at 0x118e4cd68>"
      ]
     },
     "execution_count": 8,
     "metadata": {},
     "output_type": "execute_result"
    },
    {
     "data": {
      "image/png": "[encoded data removed]",
      "text/plain": [
       "<Figure size 432x288 with 1 Axes>"
      ]
     },
     "metadata": {},
     "output_type": "display_data"
    }
   ],
   "source": [
    "fig, axe = plt.subplots()        # create axis object axe\n",
    "us.plot(ax=axe)                  # ax= looks for axis object, axe is it"
   ]
  },
  {
   "cell_type": "code",
   "execution_count": 9,
   "metadata": {},
   "outputs": [
    {
     "data": {
      "text/plain": [
       "<matplotlib.axes._subplots.AxesSubplot at 0x118f474a8>"
      ]
     },
     "execution_count": 9,
     "metadata": {},
     "output_type": "execute_result"
    },
    {
     "data": {
      "image/png": "[encoded data removed]",
      "text/plain": [
       "<Figure size 432x288 with 1 Axes>"
      ]
     },
     "metadata": {},
     "output_type": "display_data"
    }
   ],
   "source": [
    "fig, ax = plt.subplots()\n",
    "ff.plot(ax=ax,\n",
    "        kind='line',                 # line plot\n",
    "        color=['blue', 'magenta'],   # line color\n",
    "        title='Fama-French market and riskfree returns')"
   ]
  },
  {
   "cell_type": "markdown",
   "metadata": {},
   "source": [
    "---\n",
    "### Time to practice"
   ]
  },
  {
   "cell_type": "markdown",
   "metadata": {},
   "source": [
    "**Exercise.**  Let's see if we can teach ourselves the rest:\n",
    "\n",
    "* Add the argument `kind='bar'` to convert this into a bar chart.\n",
    "* Add the argument `alpha=0.65` to the bar chart.  What does it do?\n",
    "* What would you change in the bar chart to make it look better?  Use the help facility to find options that might help.  Which ones appeal to you?\n",
    "\n"
   ]
  },
  {
   "cell_type": "markdown",
   "metadata": {},
   "source": [
    "**Exercise (somewhat challenging).** Use the same approach to reproduce our earlier histograms of the Fama-French series.\n"
   ]
  },
  {
   "cell_type": "markdown",
   "metadata": {},
   "source": [
    "---\n",
    "## Graph Basic Options"
   ]
  },
  {
   "cell_type": "markdown",
   "metadata": {},
   "source": [
    "### Basic Functionalities\n",
    "\n",
    "A copule of basic elements that we **ALWAYS NEED**: (i) a title; (ii) well labeled x and y axis; (iii) sometimes legends. Note that the well labeled graphs should mean a couple of things, what it is and what units they are in. Now the code below does this using the methods associated with our axes object `ax.` \n",
    "\n",
    "\n",
    "Here we will use the scatter plot as examples. The options we learned here `in general` applies to other graphs as well.\n",
    "\n",
    "So let's figure out the following questions now:\n",
    "\n",
    "* How to set axis labels?\n",
    "* How to set titles?\n",
    "* How to set the legends?"
   ]
  },
  {
   "cell_type": "code",
   "execution_count": 11,
   "metadata": {},
   "outputs": [
    {
     "data": {
      "text/plain": [
       "<matplotlib.legend.Legend at 0x119023908>"
      ]
     },
     "execution_count": 11,
     "metadata": {},
     "output_type": "execute_result"
    },
    {
     "data": {
      "image/png": "[encoded data removed]",
      "text/plain": [
       "<Figure size 432x288 with 1 Axes>"
      ]
     },
     "metadata": {},
     "output_type": "display_data"
    }
   ],
   "source": [
    "fig, ax = plt.subplots()           # Approach #2\n",
    "us['gdp'].plot(ax=ax)\n",
    "\n",
    "\n",
    "##################################################################################\n",
    "\n",
    "ax.set_title('US GDP', loc='center', fontsize=14, fontweight = \"bold\") \n",
    "# We know this, but note the new option, it specifies the location....\n",
    "\n",
    "ax.set_xlabel(\"Year\")\n",
    "ax.set_ylabel(\"GDP\")\n",
    "\n",
    "# Here the legend might not be important, but thinking about what if you \n",
    "# have two countries\n",
    "ax.legend([\"USA data\"],frameon=False) # The legend, without a box...\n",
    "\n"
   ]
  },
  {
   "cell_type": "markdown",
   "metadata": {},
   "source": [
    "Well you see, it is much more informative!!!"
   ]
  },
  {
   "cell_type": "markdown",
   "metadata": {},
   "source": [
    "### Time to review\n",
    "\n",
    "Take a deep breath.  We've covered a lot of ground, it's time to recapitulate.\n",
    "\n",
    "We looked at three ways to use Matplotlib:\n",
    "\n",
    "* Approach #1:  Apply plot methods to dataframes.\n",
    "* Approach #2:  Create `fig, ax` objects and apply plot methods to them.\n",
    "\n",
    "This is what their syntax looks like applied to US GDP:"
   ]
  },
  {
   "cell_type": "code",
   "execution_count": 10,
   "metadata": {},
   "outputs": [
    {
     "data": {
      "text/plain": [
       "<matplotlib.axes._subplots.AxesSubplot at 0x119033cf8>"
      ]
     },
     "execution_count": 10,
     "metadata": {},
     "output_type": "execute_result"
    },
    {
     "data": {
      "image/png": "[encoded data removed]",
      "text/plain": [
       "<Figure size 432x288 with 1 Axes>"
      ]
     },
     "metadata": {},
     "output_type": "display_data"
    },
    {
     "data": {
      "image/png": "[encoded data removed]",
      "text/plain": [
       "<Figure size 432x288 with 1 Axes>"
      ]
     },
     "metadata": {},
     "output_type": "display_data"
    }
   ],
   "source": [
    "us['gdp'].plot()                   # Approach #1\n",
    "\n",
    "fig, ax = plt.subplots()           # Approach #2\n",
    "us['gdp'].plot(ax=ax)"
   ]
  },
  {
   "cell_type": "markdown",
   "metadata": {},
   "source": [
    "Each one produces the same graph.\n",
    "\n",
    "Which one should we use?  **Use Approach #2.**  Really.  This is a case where choice is confusing.\n",
    "\n",
    "We also suggest you not commit any of this to memory.  If you use end up using it a lot, you'll remember it.  If you don't, it's not worth remembering.  We typically start with examples anyway rather than creating new graphs from scratch.\n",
    "\n"
   ]
  },
  {
   "cell_type": "markdown",
   "metadata": {},
   "source": [
    "---\n",
    "## Summary"
   ]
  },
  {
   "cell_type": "markdown",
   "metadata": {},
   "source": [
    "**Congratulations!** First, it's really amazing that you have made it this far. You not only know how to manipulate data and compute some statistics, but now you know how to presesnt your results in a more intuitive way via **Graphs** ...AMAZING!!! Let us summarize some key things that we covered.\n",
    "\n",
    "* **Data visualisation concepts**: \n",
    "    * We have covered the difference between time series and cross sectional data\n",
    "    * We compare the difference between univariate, multivariate analysis and learned that usually univariate is the first step for further analysis. \n",
    "\n",
    "* **`Matplotlib`**: we have covered two apporaches to plot the data in python while second approach (`fig and ax objects`) is the recommended way, though it takes more time to right the code.\n",
    "\n",
    "* **Graph Basic Options**: \n",
    "    * Set axis labels and titles (mandatory), sometimes legends."
   ]
  },
  {
   "cell_type": "code",
   "execution_count": null,
   "metadata": {},
   "outputs": [],
   "source": []
  }
 ],
 "metadata": {
  "kernelspec": {
   "display_name": "Python 3",
   "language": "python",
   "name": "python3"
  },
  "language_info": {
   "codemirror_mode": {
    "name": "ipython",
    "version": 3
   },
   "file_extension": ".py",
   "mimetype": "text/x-python",
   "name": "python",
   "nbconvert_exporter": "python",
   "pygments_lexer": "ipython3",
   "version": "3.5.5"
  }
 },
 "nbformat": 4,
 "nbformat_minor": 2
}
